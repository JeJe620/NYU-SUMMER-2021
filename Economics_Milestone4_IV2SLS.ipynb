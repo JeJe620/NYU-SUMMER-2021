{
  "nbformat": 4,
  "nbformat_minor": 0,
  "metadata": {
    "colab": {
      "name": "Economics_Milestone4_IV2SLS.ipynb",
      "provenance": [],
      "include_colab_link": true
    },
    "kernelspec": {
      "name": "python3",
      "display_name": "Python 3"
    },
    "language_info": {
      "name": "python"
    }
  },
  "cells": [
    {
      "cell_type": "markdown",
      "metadata": {
        "id": "view-in-github",
        "colab_type": "text"
      },
      "source": [
        "<a href=\"https://colab.research.google.com/github/JeJe620/NYU-SUMMER-2021/blob/main/Economics_Milestone4_IV2SLS.ipynb\" target=\"_parent\"><img src=\"https://colab.research.google.com/assets/colab-badge.svg\" alt=\"Open In Colab\"/></a>"
      ]
    },
    {
      "cell_type": "markdown",
      "metadata": {
        "id": "f0G9yuVMVKsy"
      },
      "source": [
        "# **Briefings**\n",
        "\n",
        "1. Two packages:\n",
        "\n",
        "\n",
        "*   https://www.statsmodels.org/dev/generated/statsmodels.sandbox.regression.gmm.IV2SLS.html\n",
        "*   https://bashtage.github.io/linearmodels/doc/iv/examples/advanced-examples.html\n",
        "\n",
        "2. Four variables:\n",
        "\n",
        "Dependent Variables: Y\n",
        "Endogenous Variable: X\n",
        "Control variables: W\n",
        "instruments: Z\n",
        "\n",
        "3. Two regressions\n",
        "\n",
        "\n",
        "*   First: X~Z\n",
        "*   Second: Y~(X+W)\n",
        "\n",
        "\n",
        "\n"
      ]
    },
    {
      "cell_type": "markdown",
      "metadata": {
        "id": "IUvVJLif18yB"
      },
      "source": [
        ""
      ]
    },
    {
      "cell_type": "markdown",
      "metadata": {
        "id": "yN-Z8unoodnr"
      },
      "source": [
        "background readings: https://cryptobriefing.com/earning-20-apy-with-yield-app/"
      ]
    },
    {
      "cell_type": "markdown",
      "metadata": {
        "id": "CCgjIvhKWQgb"
      },
      "source": [
        "# Data Preparations"
      ]
    },
    {
      "cell_type": "markdown",
      "metadata": {
        "id": "FjsgYGqusAE5"
      },
      "source": [
        "### Date Sources \n",
        "https://docs.defipulse.com/overview-of-api-endpoints\n",
        "\n",
        "https://data-beta.defipulse.com/dashboard/egs\n",
        "\n",
        "https://docs.defipulse.com/api-docs-by-provider/defi-pulse-data/total-value-locked/total-value-locked"
      ]
    },
    {
      "cell_type": "markdown",
      "metadata": {
        "id": "-ypMOn9isF69"
      },
      "source": [
        "### Import the Historical Data of Total Value Locked"
      ]
    },
    {
      "cell_type": "code",
      "metadata": {
        "colab": {
          "base_uri": "https://localhost:8080/",
          "height": 204
        },
        "id": "NvA4Ft3xU5yg",
        "outputId": "c26d533b-3cfa-4459-f188-f2e999c7be1c"
      },
      "source": [
        "import pandas as pd\n",
        "import requests\n",
        "import json \n",
        "from datetime import datetime\n",
        "TVL= requests.get('https://data-api.defipulse.com/api/v1/defipulse/api/GetHistory?resolution=history&project=all&api-key=10095a3e336c5beb50c0e30ef3ab8ebdcde3e0c08f65f3ae462f69a6902a')\n",
        "TVL= TVL.json()\n",
        "TVL=pd.DataFrame(TVL)\n",
        "TVL.head()"
      ],
      "execution_count": 41,
      "outputs": [
        {
          "output_type": "execute_result",
          "data": {
            "text/html": [
              "<div>\n",
              "<style scoped>\n",
              "    .dataframe tbody tr th:only-of-type {\n",
              "        vertical-align: middle;\n",
              "    }\n",
              "\n",
              "    .dataframe tbody tr th {\n",
              "        vertical-align: top;\n",
              "    }\n",
              "\n",
              "    .dataframe thead th {\n",
              "        text-align: right;\n",
              "    }\n",
              "</style>\n",
              "<table border=\"1\" class=\"dataframe\">\n",
              "  <thead>\n",
              "    <tr style=\"text-align: right;\">\n",
              "      <th></th>\n",
              "      <th>timestamp</th>\n",
              "      <th>tvlUSD</th>\n",
              "      <th>tvlETH</th>\n",
              "      <th>BTC</th>\n",
              "      <th>ETH</th>\n",
              "      <th>DAI</th>\n",
              "    </tr>\n",
              "  </thead>\n",
              "  <tbody>\n",
              "    <tr>\n",
              "      <th>0</th>\n",
              "      <td>1623819600</td>\n",
              "      <td>62286443308</td>\n",
              "      <td>2.467112e+07</td>\n",
              "      <td>175577.557569</td>\n",
              "      <td>8.784443e+06</td>\n",
              "      <td>3.108168e+09</td>\n",
              "    </tr>\n",
              "    <tr>\n",
              "      <th>1</th>\n",
              "      <td>1623801600</td>\n",
              "      <td>62797516969</td>\n",
              "      <td>2.466565e+07</td>\n",
              "      <td>175532.268868</td>\n",
              "      <td>8.779422e+06</td>\n",
              "      <td>3.094556e+09</td>\n",
              "    </tr>\n",
              "    <tr>\n",
              "      <th>2</th>\n",
              "      <td>1623715200</td>\n",
              "      <td>62064623007</td>\n",
              "      <td>2.404282e+07</td>\n",
              "      <td>175064.886165</td>\n",
              "      <td>8.795703e+06</td>\n",
              "      <td>2.954794e+09</td>\n",
              "    </tr>\n",
              "    <tr>\n",
              "      <th>3</th>\n",
              "      <td>1623628800</td>\n",
              "      <td>60890181674</td>\n",
              "      <td>2.425498e+07</td>\n",
              "      <td>174891.430036</td>\n",
              "      <td>8.850109e+06</td>\n",
              "      <td>2.958831e+09</td>\n",
              "    </tr>\n",
              "    <tr>\n",
              "      <th>4</th>\n",
              "      <td>1623542400</td>\n",
              "      <td>57790475940</td>\n",
              "      <td>2.436638e+07</td>\n",
              "      <td>176037.991728</td>\n",
              "      <td>8.855824e+06</td>\n",
              "      <td>2.906476e+09</td>\n",
              "    </tr>\n",
              "  </tbody>\n",
              "</table>\n",
              "</div>"
            ],
            "text/plain": [
              "    timestamp       tvlUSD  ...           ETH           DAI\n",
              "0  1623819600  62286443308  ...  8.784443e+06  3.108168e+09\n",
              "1  1623801600  62797516969  ...  8.779422e+06  3.094556e+09\n",
              "2  1623715200  62064623007  ...  8.795703e+06  2.954794e+09\n",
              "3  1623628800  60890181674  ...  8.850109e+06  2.958831e+09\n",
              "4  1623542400  57790475940  ...  8.855824e+06  2.906476e+09\n",
              "\n",
              "[5 rows x 6 columns]"
            ]
          },
          "metadata": {
            "tags": []
          },
          "execution_count": 41
        }
      ]
    },
    {
      "cell_type": "markdown",
      "metadata": {
        "id": "YSYc0dTwshDT"
      },
      "source": [
        "### Epoch & Unix Timestamp Conversion Tools: \n",
        "\n",
        "https://www.epochconverter.com/"
      ]
    },
    {
      "cell_type": "code",
      "metadata": {
        "colab": {
          "base_uri": "https://localhost:8080/"
        },
        "id": "mA0dLPWOsc__",
        "outputId": "cc5c2ff0-0ef3-45b2-8279-2974221f15b5"
      },
      "source": [
        "import datetime\n",
        "TVL['timestamp']=TVL['timestamp'].astype(int)\n",
        "TVL.dtypes"
      ],
      "execution_count": 42,
      "outputs": [
        {
          "output_type": "execute_result",
          "data": {
            "text/plain": [
              "timestamp      int64\n",
              "tvlUSD         int64\n",
              "tvlETH       float64\n",
              "BTC          float64\n",
              "ETH          float64\n",
              "DAI          float64\n",
              "dtype: object"
            ]
          },
          "metadata": {
            "tags": []
          },
          "execution_count": 42
        }
      ]
    },
    {
      "cell_type": "code",
      "metadata": {
        "colab": {
          "base_uri": "https://localhost:8080/",
          "height": 289
        },
        "id": "ejHxsc6vuTYk",
        "outputId": "e22ebafd-8a3b-4877-db24-8ad93519e652"
      },
      "source": [
        "TVL['time']=TVL['timestamp'].apply(lambda x: datetime.datetime.utcfromtimestamp(x).replace(tzinfo=datetime.timezone.utc))\n",
        "TVL.head()"
      ],
      "execution_count": 43,
      "outputs": [
        {
          "output_type": "execute_result",
          "data": {
            "text/html": [
              "<div>\n",
              "<style scoped>\n",
              "    .dataframe tbody tr th:only-of-type {\n",
              "        vertical-align: middle;\n",
              "    }\n",
              "\n",
              "    .dataframe tbody tr th {\n",
              "        vertical-align: top;\n",
              "    }\n",
              "\n",
              "    .dataframe thead th {\n",
              "        text-align: right;\n",
              "    }\n",
              "</style>\n",
              "<table border=\"1\" class=\"dataframe\">\n",
              "  <thead>\n",
              "    <tr style=\"text-align: right;\">\n",
              "      <th></th>\n",
              "      <th>timestamp</th>\n",
              "      <th>tvlUSD</th>\n",
              "      <th>tvlETH</th>\n",
              "      <th>BTC</th>\n",
              "      <th>ETH</th>\n",
              "      <th>DAI</th>\n",
              "      <th>time</th>\n",
              "    </tr>\n",
              "  </thead>\n",
              "  <tbody>\n",
              "    <tr>\n",
              "      <th>0</th>\n",
              "      <td>1623819600</td>\n",
              "      <td>62286443308</td>\n",
              "      <td>2.467112e+07</td>\n",
              "      <td>175577.557569</td>\n",
              "      <td>8.784443e+06</td>\n",
              "      <td>3.108168e+09</td>\n",
              "      <td>2021-06-16 05:00:00+00:00</td>\n",
              "    </tr>\n",
              "    <tr>\n",
              "      <th>1</th>\n",
              "      <td>1623801600</td>\n",
              "      <td>62797516969</td>\n",
              "      <td>2.466565e+07</td>\n",
              "      <td>175532.268868</td>\n",
              "      <td>8.779422e+06</td>\n",
              "      <td>3.094556e+09</td>\n",
              "      <td>2021-06-16 00:00:00+00:00</td>\n",
              "    </tr>\n",
              "    <tr>\n",
              "      <th>2</th>\n",
              "      <td>1623715200</td>\n",
              "      <td>62064623007</td>\n",
              "      <td>2.404282e+07</td>\n",
              "      <td>175064.886165</td>\n",
              "      <td>8.795703e+06</td>\n",
              "      <td>2.954794e+09</td>\n",
              "      <td>2021-06-15 00:00:00+00:00</td>\n",
              "    </tr>\n",
              "    <tr>\n",
              "      <th>3</th>\n",
              "      <td>1623628800</td>\n",
              "      <td>60890181674</td>\n",
              "      <td>2.425498e+07</td>\n",
              "      <td>174891.430036</td>\n",
              "      <td>8.850109e+06</td>\n",
              "      <td>2.958831e+09</td>\n",
              "      <td>2021-06-14 00:00:00+00:00</td>\n",
              "    </tr>\n",
              "    <tr>\n",
              "      <th>4</th>\n",
              "      <td>1623542400</td>\n",
              "      <td>57790475940</td>\n",
              "      <td>2.436638e+07</td>\n",
              "      <td>176037.991728</td>\n",
              "      <td>8.855824e+06</td>\n",
              "      <td>2.906476e+09</td>\n",
              "      <td>2021-06-13 00:00:00+00:00</td>\n",
              "    </tr>\n",
              "  </tbody>\n",
              "</table>\n",
              "</div>"
            ],
            "text/plain": [
              "    timestamp       tvlUSD  ...           DAI                      time\n",
              "0  1623819600  62286443308  ...  3.108168e+09 2021-06-16 05:00:00+00:00\n",
              "1  1623801600  62797516969  ...  3.094556e+09 2021-06-16 00:00:00+00:00\n",
              "2  1623715200  62064623007  ...  2.954794e+09 2021-06-15 00:00:00+00:00\n",
              "3  1623628800  60890181674  ...  2.958831e+09 2021-06-14 00:00:00+00:00\n",
              "4  1623542400  57790475940  ...  2.906476e+09 2021-06-13 00:00:00+00:00\n",
              "\n",
              "[5 rows x 7 columns]"
            ]
          },
          "metadata": {
            "tags": []
          },
          "execution_count": 43
        }
      ]
    },
    {
      "cell_type": "code",
      "metadata": {
        "colab": {
          "base_uri": "https://localhost:8080/",
          "height": 289
        },
        "id": "Tbt5RqFyua50",
        "outputId": "0be40fcd-3dfb-40d2-b076-92be6f5aa4cd"
      },
      "source": [
        "TVL['date'] = pd.to_datetime(TVL['time']).dt.date\n",
        "TVL.head()"
      ],
      "execution_count": 44,
      "outputs": [
        {
          "output_type": "execute_result",
          "data": {
            "text/html": [
              "<div>\n",
              "<style scoped>\n",
              "    .dataframe tbody tr th:only-of-type {\n",
              "        vertical-align: middle;\n",
              "    }\n",
              "\n",
              "    .dataframe tbody tr th {\n",
              "        vertical-align: top;\n",
              "    }\n",
              "\n",
              "    .dataframe thead th {\n",
              "        text-align: right;\n",
              "    }\n",
              "</style>\n",
              "<table border=\"1\" class=\"dataframe\">\n",
              "  <thead>\n",
              "    <tr style=\"text-align: right;\">\n",
              "      <th></th>\n",
              "      <th>timestamp</th>\n",
              "      <th>tvlUSD</th>\n",
              "      <th>tvlETH</th>\n",
              "      <th>BTC</th>\n",
              "      <th>ETH</th>\n",
              "      <th>DAI</th>\n",
              "      <th>time</th>\n",
              "      <th>date</th>\n",
              "    </tr>\n",
              "  </thead>\n",
              "  <tbody>\n",
              "    <tr>\n",
              "      <th>0</th>\n",
              "      <td>1623819600</td>\n",
              "      <td>62286443308</td>\n",
              "      <td>2.467112e+07</td>\n",
              "      <td>175577.557569</td>\n",
              "      <td>8.784443e+06</td>\n",
              "      <td>3.108168e+09</td>\n",
              "      <td>2021-06-16 05:00:00+00:00</td>\n",
              "      <td>2021-06-16</td>\n",
              "    </tr>\n",
              "    <tr>\n",
              "      <th>1</th>\n",
              "      <td>1623801600</td>\n",
              "      <td>62797516969</td>\n",
              "      <td>2.466565e+07</td>\n",
              "      <td>175532.268868</td>\n",
              "      <td>8.779422e+06</td>\n",
              "      <td>3.094556e+09</td>\n",
              "      <td>2021-06-16 00:00:00+00:00</td>\n",
              "      <td>2021-06-16</td>\n",
              "    </tr>\n",
              "    <tr>\n",
              "      <th>2</th>\n",
              "      <td>1623715200</td>\n",
              "      <td>62064623007</td>\n",
              "      <td>2.404282e+07</td>\n",
              "      <td>175064.886165</td>\n",
              "      <td>8.795703e+06</td>\n",
              "      <td>2.954794e+09</td>\n",
              "      <td>2021-06-15 00:00:00+00:00</td>\n",
              "      <td>2021-06-15</td>\n",
              "    </tr>\n",
              "    <tr>\n",
              "      <th>3</th>\n",
              "      <td>1623628800</td>\n",
              "      <td>60890181674</td>\n",
              "      <td>2.425498e+07</td>\n",
              "      <td>174891.430036</td>\n",
              "      <td>8.850109e+06</td>\n",
              "      <td>2.958831e+09</td>\n",
              "      <td>2021-06-14 00:00:00+00:00</td>\n",
              "      <td>2021-06-14</td>\n",
              "    </tr>\n",
              "    <tr>\n",
              "      <th>4</th>\n",
              "      <td>1623542400</td>\n",
              "      <td>57790475940</td>\n",
              "      <td>2.436638e+07</td>\n",
              "      <td>176037.991728</td>\n",
              "      <td>8.855824e+06</td>\n",
              "      <td>2.906476e+09</td>\n",
              "      <td>2021-06-13 00:00:00+00:00</td>\n",
              "      <td>2021-06-13</td>\n",
              "    </tr>\n",
              "  </tbody>\n",
              "</table>\n",
              "</div>"
            ],
            "text/plain": [
              "    timestamp       tvlUSD  ...                      time        date\n",
              "0  1623819600  62286443308  ... 2021-06-16 05:00:00+00:00  2021-06-16\n",
              "1  1623801600  62797516969  ... 2021-06-16 00:00:00+00:00  2021-06-16\n",
              "2  1623715200  62064623007  ... 2021-06-15 00:00:00+00:00  2021-06-15\n",
              "3  1623628800  60890181674  ... 2021-06-14 00:00:00+00:00  2021-06-14\n",
              "4  1623542400  57790475940  ... 2021-06-13 00:00:00+00:00  2021-06-13\n",
              "\n",
              "[5 rows x 8 columns]"
            ]
          },
          "metadata": {
            "tags": []
          },
          "execution_count": 44
        }
      ]
    },
    {
      "cell_type": "code",
      "metadata": {
        "colab": {
          "base_uri": "https://localhost:8080/"
        },
        "id": "-cMJinDc1D5z",
        "outputId": "411bc2c7-b622-4199-d3b2-580d02e42a6e"
      },
      "source": [
        "TVL=TVL.drop(columns='time')\n",
        "TVL['date']=pd.to_datetime(TVL['date'])\n",
        "TVL.dtypes"
      ],
      "execution_count": 45,
      "outputs": [
        {
          "output_type": "execute_result",
          "data": {
            "text/plain": [
              "timestamp             int64\n",
              "tvlUSD                int64\n",
              "tvlETH              float64\n",
              "BTC                 float64\n",
              "ETH                 float64\n",
              "DAI                 float64\n",
              "date         datetime64[ns]\n",
              "dtype: object"
            ]
          },
          "metadata": {
            "tags": []
          },
          "execution_count": 45
        }
      ]
    },
    {
      "cell_type": "markdown",
      "metadata": {
        "id": "zqQ0daK2wMQN"
      },
      "source": [
        "### Import the data for Ethereum Prices"
      ]
    },
    {
      "cell_type": "markdown",
      "metadata": {
        "id": "mYlmGrgczaPF"
      },
      "source": [
        "[Data Metrics](https://github.com/coinmetrics-io/data/blob/master/csv/metrics.csv)"
      ]
    },
    {
      "cell_type": "code",
      "metadata": {
        "colab": {
          "base_uri": "https://localhost:8080/"
        },
        "id": "QwyZPFlJzT6-",
        "outputId": "2238df88-537d-4663-8840-1a98344c27e7"
      },
      "source": [
        "df_eth=pd.read_csv(\"https://raw.githubusercontent.com/coinmetrics-io/data/master/csv/eth.csv\",usecols=([\"time\",\"PriceUSD\",\"VtyDayRet30d\",\"TxTfrValAdjUSD\",\"AdrBalCnt\",\"NVTAdj90\",\"SplyCur\"]))\n",
        "df_eth['time']=pd.to_datetime(df_eth['time'])\n",
        "df_eth.dtypes"
      ],
      "execution_count": 46,
      "outputs": [
        {
          "output_type": "execute_result",
          "data": {
            "text/plain": [
              "time              datetime64[ns]\n",
              "AdrBalCnt                float64\n",
              "NVTAdj90                 float64\n",
              "PriceUSD                 float64\n",
              "SplyCur                  float64\n",
              "TxTfrValAdjUSD           float64\n",
              "VtyDayRet30d             float64\n",
              "dtype: object"
            ]
          },
          "metadata": {
            "tags": []
          },
          "execution_count": 46
        }
      ]
    },
    {
      "cell_type": "markdown",
      "metadata": {
        "id": "2pgSXDO11eZ-"
      },
      "source": [
        "### Merge the two Data Frame"
      ]
    },
    {
      "cell_type": "code",
      "metadata": {
        "colab": {
          "base_uri": "https://localhost:8080/",
          "height": 309
        },
        "id": "wuPJKRK4zxS6",
        "outputId": "29f9a67f-4a70-4f15-aa1f-0330154cfad9"
      },
      "source": [
        "df =df_eth.merge(TVL, left_on='time', right_on='date')\n",
        "df.head()"
      ],
      "execution_count": 47,
      "outputs": [
        {
          "output_type": "execute_result",
          "data": {
            "text/html": [
              "<div>\n",
              "<style scoped>\n",
              "    .dataframe tbody tr th:only-of-type {\n",
              "        vertical-align: middle;\n",
              "    }\n",
              "\n",
              "    .dataframe tbody tr th {\n",
              "        vertical-align: top;\n",
              "    }\n",
              "\n",
              "    .dataframe thead th {\n",
              "        text-align: right;\n",
              "    }\n",
              "</style>\n",
              "<table border=\"1\" class=\"dataframe\">\n",
              "  <thead>\n",
              "    <tr style=\"text-align: right;\">\n",
              "      <th></th>\n",
              "      <th>time</th>\n",
              "      <th>AdrBalCnt</th>\n",
              "      <th>NVTAdj90</th>\n",
              "      <th>PriceUSD</th>\n",
              "      <th>SplyCur</th>\n",
              "      <th>TxTfrValAdjUSD</th>\n",
              "      <th>VtyDayRet30d</th>\n",
              "      <th>timestamp</th>\n",
              "      <th>tvlUSD</th>\n",
              "      <th>tvlETH</th>\n",
              "      <th>BTC</th>\n",
              "      <th>ETH</th>\n",
              "      <th>DAI</th>\n",
              "      <th>date</th>\n",
              "    </tr>\n",
              "  </thead>\n",
              "  <tbody>\n",
              "    <tr>\n",
              "      <th>0</th>\n",
              "      <td>2017-08-02</td>\n",
              "      <td>2563959.0</td>\n",
              "      <td>20.362229</td>\n",
              "      <td>217.584664</td>\n",
              "      <td>9.374206e+07</td>\n",
              "      <td>6.780871e+08</td>\n",
              "      <td>0.095886</td>\n",
              "      <td>1501632000</td>\n",
              "      <td>0</td>\n",
              "      <td>0.000000</td>\n",
              "      <td>0.0</td>\n",
              "      <td>0.0</td>\n",
              "      <td>0.0</td>\n",
              "      <td>2017-08-02</td>\n",
              "    </tr>\n",
              "    <tr>\n",
              "      <th>1</th>\n",
              "      <td>2017-08-03</td>\n",
              "      <td>2583277.0</td>\n",
              "      <td>20.979627</td>\n",
              "      <td>224.028898</td>\n",
              "      <td>9.376303e+07</td>\n",
              "      <td>6.062566e+08</td>\n",
              "      <td>0.096060</td>\n",
              "      <td>1501718400</td>\n",
              "      <td>4</td>\n",
              "      <td>0.018339</td>\n",
              "      <td>0.0</td>\n",
              "      <td>0.0</td>\n",
              "      <td>0.0</td>\n",
              "      <td>2017-08-03</td>\n",
              "    </tr>\n",
              "    <tr>\n",
              "      <th>2</th>\n",
              "      <td>2017-08-04</td>\n",
              "      <td>2605667.0</td>\n",
              "      <td>20.714810</td>\n",
              "      <td>221.471094</td>\n",
              "      <td>9.378433e+07</td>\n",
              "      <td>5.206240e+08</td>\n",
              "      <td>0.096060</td>\n",
              "      <td>1501804800</td>\n",
              "      <td>4</td>\n",
              "      <td>0.017826</td>\n",
              "      <td>0.0</td>\n",
              "      <td>0.0</td>\n",
              "      <td>0.0</td>\n",
              "      <td>2017-08-04</td>\n",
              "    </tr>\n",
              "    <tr>\n",
              "      <th>3</th>\n",
              "      <td>2017-08-05</td>\n",
              "      <td>2624386.0</td>\n",
              "      <td>23.205816</td>\n",
              "      <td>248.939666</td>\n",
              "      <td>9.380552e+07</td>\n",
              "      <td>6.665590e+08</td>\n",
              "      <td>0.098653</td>\n",
              "      <td>1501891200</td>\n",
              "      <td>5</td>\n",
              "      <td>0.022665</td>\n",
              "      <td>0.0</td>\n",
              "      <td>0.0</td>\n",
              "      <td>0.0</td>\n",
              "      <td>2017-08-05</td>\n",
              "    </tr>\n",
              "    <tr>\n",
              "      <th>4</th>\n",
              "      <td>2017-08-06</td>\n",
              "      <td>2640032.0</td>\n",
              "      <td>24.667311</td>\n",
              "      <td>266.031146</td>\n",
              "      <td>9.382679e+07</td>\n",
              "      <td>9.229966e+08</td>\n",
              "      <td>0.097469</td>\n",
              "      <td>1501977600</td>\n",
              "      <td>5</td>\n",
              "      <td>0.019756</td>\n",
              "      <td>0.0</td>\n",
              "      <td>0.0</td>\n",
              "      <td>0.0</td>\n",
              "      <td>2017-08-06</td>\n",
              "    </tr>\n",
              "  </tbody>\n",
              "</table>\n",
              "</div>"
            ],
            "text/plain": [
              "        time  AdrBalCnt   NVTAdj90    PriceUSD  ...  BTC  ETH  DAI       date\n",
              "0 2017-08-02  2563959.0  20.362229  217.584664  ...  0.0  0.0  0.0 2017-08-02\n",
              "1 2017-08-03  2583277.0  20.979627  224.028898  ...  0.0  0.0  0.0 2017-08-03\n",
              "2 2017-08-04  2605667.0  20.714810  221.471094  ...  0.0  0.0  0.0 2017-08-04\n",
              "3 2017-08-05  2624386.0  23.205816  248.939666  ...  0.0  0.0  0.0 2017-08-05\n",
              "4 2017-08-06  2640032.0  24.667311  266.031146  ...  0.0  0.0  0.0 2017-08-06\n",
              "\n",
              "[5 rows x 14 columns]"
            ]
          },
          "metadata": {
            "tags": []
          },
          "execution_count": 47
        }
      ]
    },
    {
      "cell_type": "code",
      "metadata": {
        "id": "HHJX4hy609CY"
      },
      "source": [
        "df=df[[\"date\",\"tvlUSD\",\"VtyDayRet30d\",\"SplyCur\",\"AdrBalCnt\"]]"
      ],
      "execution_count": 48,
      "outputs": []
    },
    {
      "cell_type": "markdown",
      "metadata": {
        "id": "TYUpm17R1-dp"
      },
      "source": [
        "# Test Instrument Validities\n",
        "\n",
        "Y: \"SplyCur\"\n",
        "\n",
        "X: \"VtyDayRet30d\"\n",
        "\n",
        "Z: \"SplyCur\"\n",
        "\n",
        "W: \"AdrBalCnt\""
      ]
    },
    {
      "cell_type": "code",
      "metadata": {
        "colab": {
          "base_uri": "https://localhost:8080/",
          "height": 111
        },
        "id": "LAM6AcsE2y0Q",
        "outputId": "aca00cde-93fc-41ba-f82b-9479d74deaf9"
      },
      "source": [
        "df[[\"VtyDayRet30d\",\"SplyCur\"]].corr()"
      ],
      "execution_count": 49,
      "outputs": [
        {
          "output_type": "execute_result",
          "data": {
            "text/html": [
              "<div>\n",
              "<style scoped>\n",
              "    .dataframe tbody tr th:only-of-type {\n",
              "        vertical-align: middle;\n",
              "    }\n",
              "\n",
              "    .dataframe tbody tr th {\n",
              "        vertical-align: top;\n",
              "    }\n",
              "\n",
              "    .dataframe thead th {\n",
              "        text-align: right;\n",
              "    }\n",
              "</style>\n",
              "<table border=\"1\" class=\"dataframe\">\n",
              "  <thead>\n",
              "    <tr style=\"text-align: right;\">\n",
              "      <th></th>\n",
              "      <th>VtyDayRet30d</th>\n",
              "      <th>SplyCur</th>\n",
              "    </tr>\n",
              "  </thead>\n",
              "  <tbody>\n",
              "    <tr>\n",
              "      <th>VtyDayRet30d</th>\n",
              "      <td>1.000000</td>\n",
              "      <td>-0.117955</td>\n",
              "    </tr>\n",
              "    <tr>\n",
              "      <th>SplyCur</th>\n",
              "      <td>-0.117955</td>\n",
              "      <td>1.000000</td>\n",
              "    </tr>\n",
              "  </tbody>\n",
              "</table>\n",
              "</div>"
            ],
            "text/plain": [
              "              VtyDayRet30d   SplyCur\n",
              "VtyDayRet30d      1.000000 -0.117955\n",
              "SplyCur          -0.117955  1.000000"
            ]
          },
          "metadata": {
            "tags": []
          },
          "execution_count": 49
        }
      ]
    },
    {
      "cell_type": "markdown",
      "metadata": {
        "id": "6366aGHi3kt7"
      },
      "source": [
        "# Using the Linear Model Package\n",
        "\n",
        "https://bashtage.github.io/linearmodels/doc/iv/index.html"
      ]
    },
    {
      "cell_type": "code",
      "metadata": {
        "colab": {
          "base_uri": "https://localhost:8080/"
        },
        "id": "I6XzAwjZ3tmx",
        "outputId": "a9cd0f7a-ebb3-4e2d-d986-88e14effda1d"
      },
      "source": [
        "pip install linearmodels"
      ],
      "execution_count": 50,
      "outputs": [
        {
          "output_type": "stream",
          "text": [
            "Requirement already satisfied: linearmodels in /usr/local/lib/python3.7/dist-packages (4.24)\n",
            "Requirement already satisfied: statsmodels>=0.11 in /usr/local/lib/python3.7/dist-packages (from linearmodels) (0.12.2)\n",
            "Requirement already satisfied: property-cached>=1.6.3 in /usr/local/lib/python3.7/dist-packages (from linearmodels) (1.6.4)\n",
            "Requirement already satisfied: numpy>=1.16 in /usr/local/lib/python3.7/dist-packages (from linearmodels) (1.19.5)\n",
            "Requirement already satisfied: patsy in /usr/local/lib/python3.7/dist-packages (from linearmodels) (0.5.1)\n",
            "Requirement already satisfied: pandas>=0.24 in /usr/local/lib/python3.7/dist-packages (from linearmodels) (1.1.5)\n",
            "Requirement already satisfied: mypy-extensions>=0.4 in /usr/local/lib/python3.7/dist-packages (from linearmodels) (0.4.3)\n",
            "Requirement already satisfied: pyhdfe>=0.1 in /usr/local/lib/python3.7/dist-packages (from linearmodels) (0.1.0)\n",
            "Requirement already satisfied: scipy>=1.2 in /usr/local/lib/python3.7/dist-packages (from linearmodels) (1.4.1)\n",
            "Requirement already satisfied: Cython>=0.29.21 in /usr/local/lib/python3.7/dist-packages (from linearmodels) (0.29.23)\n",
            "Requirement already satisfied: six in /usr/local/lib/python3.7/dist-packages (from patsy->linearmodels) (1.15.0)\n",
            "Requirement already satisfied: pytz>=2017.2 in /usr/local/lib/python3.7/dist-packages (from pandas>=0.24->linearmodels) (2018.9)\n",
            "Requirement already satisfied: python-dateutil>=2.7.3 in /usr/local/lib/python3.7/dist-packages (from pandas>=0.24->linearmodels) (2.8.1)\n"
          ],
          "name": "stdout"
        }
      ]
    },
    {
      "cell_type": "code",
      "metadata": {
        "id": "zPkiZ_PG29pY"
      },
      "source": [
        "from linearmodels import IV2SLS"
      ],
      "execution_count": 51,
      "outputs": []
    },
    {
      "cell_type": "markdown",
      "metadata": {
        "id": "XxYAEg6k5Z4t"
      },
      "source": [
        "### run an OLS"
      ]
    },
    {
      "cell_type": "code",
      "metadata": {
        "id": "VpWEbEA56Lqu"
      },
      "source": [
        "df['const'] = 1"
      ],
      "execution_count": 52,
      "outputs": []
    },
    {
      "cell_type": "code",
      "metadata": {
        "colab": {
          "base_uri": "https://localhost:8080/"
        },
        "id": "bwWWAz_v3pxe",
        "outputId": "e8336ddc-f599-4f29-e702-7f8d421a246a"
      },
      "source": [
        "ivolsmod = IV2SLS(df.tvlUSD, df[[\"const\",\"VtyDayRet30d\",\"SplyCur\",\"AdrBalCnt\"]], None, None)\n",
        "res_ols = ivolsmod.fit()\n",
        "print(res_ols)"
      ],
      "execution_count": 53,
      "outputs": [
        {
          "output_type": "stream",
          "text": [
            "                            OLS Estimation Summary                            \n",
            "==============================================================================\n",
            "Dep. Variable:                 tvlUSD   R-squared:                      0.7298\n",
            "Estimator:                        OLS   Adj. R-squared:                 0.7292\n",
            "No. Observations:                1413   F-statistic:                    1314.0\n",
            "Date:                Wed, Jun 16 2021   P-value (F-stat)                0.0000\n",
            "Time:                        07:14:11   Distribution:                  chi2(3)\n",
            "Cov. Estimator:                robust                                         \n",
            "                                                                              \n",
            "                              Parameter Estimates                               \n",
            "================================================================================\n",
            "              Parameter  Std. Err.     T-stat    P-value    Lower CI    Upper CI\n",
            "--------------------------------------------------------------------------------\n",
            "const         6.861e+11  2.542e+10     26.987     0.0000   6.363e+11    7.36e+11\n",
            "VtyDayRet30d  6.697e+10  1.256e+10     5.3313     0.0000   4.235e+10    9.16e+10\n",
            "SplyCur         -7437.2     270.76    -27.468     0.0000     -7967.9     -6906.5\n",
            "AdrBalCnt        3595.2     121.70     29.542     0.0000      3356.7      3833.8\n",
            "================================================================================\n"
          ],
          "name": "stdout"
        }
      ]
    },
    {
      "cell_type": "markdown",
      "metadata": {
        "id": "rgrpPK_w5fmx"
      },
      "source": [
        "### run an IV2SLS"
      ]
    },
    {
      "cell_type": "code",
      "metadata": {
        "colab": {
          "base_uri": "https://localhost:8080/"
        },
        "id": "AlJWi-_y5RUB",
        "outputId": "43a7cc2e-087f-49ba-bbfd-93a5bfce8ecd"
      },
      "source": [
        "ivmod = IV2SLS(df.tvlUSD, df[[\"const\",\"AdrBalCnt\"]], df[\"VtyDayRet30d\"], df[\"SplyCur\"])\n",
        "res_2sls = ivmod.fit()\n",
        "print(res_2sls.summary)"
      ],
      "execution_count": 54,
      "outputs": [
        {
          "output_type": "stream",
          "text": [
            "                          IV-2SLS Estimation Summary                          \n",
            "==============================================================================\n",
            "Dep. Variable:                 tvlUSD   R-squared:                     -3.8811\n",
            "Estimator:                    IV-2SLS   Adj. R-squared:                -3.8880\n",
            "No. Observations:                1413   F-statistic:                    204.93\n",
            "Date:                Wed, Jun 16 2021   P-value (F-stat)                0.0000\n",
            "Time:                        07:14:11   Distribution:                  chi2(2)\n",
            "Cov. Estimator:                robust                                         \n",
            "                                                                              \n",
            "                              Parameter Estimates                               \n",
            "================================================================================\n",
            "              Parameter  Std. Err.     T-stat    P-value    Lower CI    Upper CI\n",
            "--------------------------------------------------------------------------------\n",
            "const        -1.183e+11  1.346e+10    -8.7840     0.0000  -1.446e+11  -9.187e+10\n",
            "AdrBalCnt        876.87     63.609     13.785     0.0000      752.20      1001.5\n",
            "VtyDayRet30d  1.958e+12  2.489e+11     7.8673     0.0000    1.47e+12   2.446e+12\n",
            "================================================================================\n",
            "\n",
            "Endogenous: VtyDayRet30d\n",
            "Instruments: SplyCur\n",
            "Robust Covariance (Heteroskedastic)\n",
            "Debiased: False\n"
          ],
          "name": "stdout"
        }
      ]
    },
    {
      "cell_type": "markdown",
      "metadata": {
        "id": "6FXJ7F2L6hjU"
      },
      "source": [
        "### comparison of the results"
      ]
    },
    {
      "cell_type": "code",
      "metadata": {
        "id": "ko-JHZ9T52eI"
      },
      "source": [
        "from collections import OrderedDict\n",
        "from linearmodels.iv.results import compare"
      ],
      "execution_count": 55,
      "outputs": []
    },
    {
      "cell_type": "code",
      "metadata": {
        "colab": {
          "base_uri": "https://localhost:8080/"
        },
        "id": "2uCswn3g6rt5",
        "outputId": "5e1ad81b-dcd1-4586-cc7e-1f572d572a26"
      },
      "source": [
        "res = OrderedDict()\n",
        "res['OLS'] = res_ols\n",
        "res['2SLS'] = res_2sls\n",
        "print(compare(res))"
      ],
      "execution_count": 56,
      "outputs": [
        {
          "output_type": "stream",
          "text": [
            "                 Model Comparison                \n",
            "=================================================\n",
            "                               OLS           2SLS\n",
            "-------------------------------------------------\n",
            "Dep. Variable               tvlUSD         tvlUSD\n",
            "Estimator                      OLS        IV-2SLS\n",
            "No. Observations              1413           1413\n",
            "Cov. Est.                   robust         robust\n",
            "R-squared                   0.7298        -3.8811\n",
            "Adj. R-squared              0.7292        -3.8880\n",
            "F-statistic                 1314.0         204.93\n",
            "P-value (F-stat)            0.0000         0.0000\n",
            "==================     ===========   ============\n",
            "const                    6.861e+11     -1.183e+11\n",
            "                          (26.987)      (-8.7840)\n",
            "VtyDayRet30d             6.697e+10      1.958e+12\n",
            "                          (5.3313)       (7.8673)\n",
            "SplyCur                    -7437.2               \n",
            "                         (-27.468)               \n",
            "AdrBalCnt                   3595.2         876.87\n",
            "                          (29.542)       (13.785)\n",
            "==================== ============= ==============\n",
            "Instruments                               SplyCur\n",
            "-------------------------------------------------\n",
            "\n",
            "T-stats reported in parentheses\n"
          ],
          "name": "stdout"
        }
      ]
    },
    {
      "cell_type": "markdown",
      "metadata": {
        "id": "ucuxJA-e62Eo"
      },
      "source": [
        "### Testing endogeneity"
      ]
    },
    {
      "cell_type": "markdown",
      "metadata": {
        "id": "hOrvX00o6-sI"
      },
      "source": [
        "The Durbin test is a classic of endogeneity which compares OLS estimates with 2SLS and exploits the fact that OLS estimates will be relatively efficient. Durbin’s test is not robust to heteroskedasticity."
      ]
    },
    {
      "cell_type": "code",
      "metadata": {
        "colab": {
          "base_uri": "https://localhost:8080/"
        },
        "id": "ET-0LIWQ6vuR",
        "outputId": "f49262ae-8aba-4d25-8480-68d586af8df2"
      },
      "source": [
        "res_2sls.durbin()"
      ],
      "execution_count": 57,
      "outputs": [
        {
          "output_type": "execute_result",
          "data": {
            "text/plain": [
              "Durbin test of exogeneity\n",
              "H0: All endogenous variables are exogenous\n",
              "Statistic: 649.7442\n",
              "P-value: 0.0000\n",
              "Distributed: chi2(1)\n",
              "WaldTestStatistic, id: 0x7f2d772ee850"
            ]
          },
          "metadata": {
            "tags": []
          },
          "execution_count": 57
        }
      ]
    },
    {
      "cell_type": "markdown",
      "metadata": {
        "id": "oOc2ojRD7R7p"
      },
      "source": [
        "Wooldridge’s regression-based test of exogeneity is robust to heteroskedasticity since it inherits the covariance estimator from the model. Here there is little difference."
      ]
    },
    {
      "cell_type": "code",
      "metadata": {
        "colab": {
          "base_uri": "https://localhost:8080/"
        },
        "id": "xpOJjC6a7Bk7",
        "outputId": "358e1d6c-0c09-4ef4-a8e5-760b19a2ce20"
      },
      "source": [
        "res_2sls.wooldridge_regression"
      ],
      "execution_count": 58,
      "outputs": [
        {
          "output_type": "execute_result",
          "data": {
            "text/plain": [
              "Wooldridge's regression test of exogeneity\n",
              "H0: Endogenous variables are exogenous\n",
              "Statistic: 754.5060\n",
              "P-value: 0.0000\n",
              "Distributed: chi2(1)\n",
              "WaldTestStatistic, id: 0x7f2d808787d0"
            ]
          },
          "metadata": {
            "tags": []
          },
          "execution_count": 58
        }
      ]
    },
    {
      "cell_type": "markdown",
      "metadata": {
        "id": "51xkG50O7p5M"
      },
      "source": [
        "### print first stage regression"
      ]
    },
    {
      "cell_type": "code",
      "metadata": {
        "colab": {
          "base_uri": "https://localhost:8080/"
        },
        "id": "bn7PCPjl7Nwd",
        "outputId": "2d3ff9f7-5f7f-4aff-dfb0-f85a51da567a"
      },
      "source": [
        "print(res_2sls.first_stage)"
      ],
      "execution_count": 59,
      "outputs": [
        {
          "output_type": "stream",
          "text": [
            "     First Stage Estimation Results    \n",
            "=======================================\n",
            "                           VtyDayRet30d\n",
            "---------------------------------------\n",
            "R-squared                        0.0562\n",
            "Partial R-squared                0.0499\n",
            "Shea's R-squared                 0.0499\n",
            "Partial F-statistic              64.337\n",
            "P-value (Partial F-stat)      9.992e-16\n",
            "Partial F-stat Distn            chi2(1)\n",
            "========================== ============\n",
            "const                            0.4254\n",
            "                               (9.1767)\n",
            "AdrBalCnt                     1.437e-09\n",
            "                               (7.4958)\n",
            "SplyCur                      -3.933e-09\n",
            "                              (-8.0211)\n",
            "---------------------------------------\n",
            "\n",
            "T-stats reported in parentheses\n",
            "T-stats use same covariance type as original model\n"
          ],
          "name": "stdout"
        }
      ]
    },
    {
      "cell_type": "markdown",
      "metadata": {
        "id": "-vP6TFhE7zVS"
      },
      "source": [
        "# Using the Statsmodel Package\n",
        "\n",
        "Not recommended"
      ]
    },
    {
      "cell_type": "markdown",
      "metadata": {
        "id": "RJzb5lIN74LQ"
      },
      "source": [
        "https://www.statsmodels.org/dev/generated/statsmodels.sandbox.regression.gmm.IV2SLS.html"
      ]
    }
  ]
}