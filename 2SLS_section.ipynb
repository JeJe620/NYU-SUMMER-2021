{
  "nbformat": 4,
  "nbformat_minor": 0,
  "metadata": {
    "colab": {
      "name": "2SLS section",
      "provenance": [],
      "include_colab_link": true
    },
    "kernelspec": {
      "name": "python3",
      "display_name": "Python 3"
    },
    "language_info": {
      "name": "python"
    }
  },
  "cells": [
    {
      "cell_type": "markdown",
      "metadata": {
        "id": "view-in-github",
        "colab_type": "text"
      },
      "source": [
        "<a href=\"https://colab.research.google.com/github/JeJe620/NYU-SUMMER-2021/blob/main/2SLS_section.ipynb\" target=\"_parent\"><img src=\"https://colab.research.google.com/assets/colab-badge.svg\" alt=\"Open In Colab\"/></a>"
      ]
    },
    {
      "cell_type": "markdown",
      "metadata": {
        "id": "f0G9yuVMVKsy"
      },
      "source": [
        "# **Briefings**\n",
        "\n",
        "1. Two packages:\n",
        "\n",
        "\n",
        "*   https://www.statsmodels.org/dev/generated/statsmodels.sandbox.regression.gmm.IV2SLS.html\n",
        "*   https://bashtage.github.io/linearmodels/doc/iv/examples/advanced-examples.html\n",
        "\n",
        "2. Four variables:\n",
        "\n",
        "Dependent Variables: Y\n",
        "Endogenous Variable: X\n",
        "Control variables: W\n",
        "instruments: Z\n",
        "\n",
        "3. Two regressions\n",
        "\n",
        "\n",
        "*   First: X~Z\n",
        "*   Second: Y~(X+W)\n",
        "\n",
        "\n",
        "\n"
      ]
    },
    {
      "cell_type": "markdown",
      "metadata": {
        "id": "IUvVJLif18yB"
      },
      "source": [
        ""
      ]
    },
    {
      "cell_type": "markdown",
      "metadata": {
        "id": "yN-Z8unoodnr"
      },
      "source": [
        "background readings: https://cryptobriefing.com/earning-20-apy-with-yield-app/"
      ]
    },
    {
      "cell_type": "markdown",
      "metadata": {
        "id": "CCgjIvhKWQgb"
      },
      "source": [
        "# Data Preparations"
      ]
    },
    {
      "cell_type": "markdown",
      "metadata": {
        "id": "FjsgYGqusAE5"
      },
      "source": [
        "### Date Sources \n",
        "https://docs.defipulse.com/overview-of-api-endpoints\n",
        "\n",
        "https://data-beta.defipulse.com/dashboard/egs\n",
        "\n",
        "https://docs.defipulse.com/api-docs-by-provider/defi-pulse-data/total-value-locked/total-value-locked"
      ]
    },
    {
      "cell_type": "markdown",
      "metadata": {
        "id": "-ypMOn9isF69"
      },
      "source": [
        "### Import the Historical Data of Total Value Locked"
      ]
    },
    {
      "cell_type": "code",
      "metadata": {
        "colab": {
          "base_uri": "https://localhost:8080/"
        },
        "id": "NvA4Ft3xU5yg",
        "outputId": "2aeff9d8-f589-4951-c9f8-f5b62d48480b"
      },
      "source": [
        "import pandas as pd\n",
        "import requests\n",
        "import json \n",
        "from datetime import datetime\n",
        "TVL= requests.get('https://data-api.defipulse.com/api/v1/defipulse/api/GetHistory?resolution=history&project=all&api-key=10095a3e336c5beb50c0e30ef3ab8ebdcde3e0c08f65f3ae462f69a6902a')\n",
        "TVL= TVL.json()\n",
        "TVL=pd.DataFrame(TVL)\n",
        "TVL.head()"
      ],
      "execution_count": null,
      "outputs": [
        {
          "output_type": "execute_result",
          "data": {
            "text/html": [
              "<div>\n",
              "<style scoped>\n",
              "    .dataframe tbody tr th:only-of-type {\n",
              "        vertical-align: middle;\n",
              "    }\n",
              "\n",
              "    .dataframe tbody tr th {\n",
              "        vertical-align: top;\n",
              "    }\n",
              "\n",
              "    .dataframe thead th {\n",
              "        text-align: right;\n",
              "    }\n",
              "</style>\n",
              "<table border=\"1\" class=\"dataframe\">\n",
              "  <thead>\n",
              "    <tr style=\"text-align: right;\">\n",
              "      <th></th>\n",
              "      <th>timestamp</th>\n",
              "      <th>tvlUSD</th>\n",
              "      <th>tvlETH</th>\n",
              "      <th>BTC</th>\n",
              "      <th>ETH</th>\n",
              "      <th>DAI</th>\n",
              "    </tr>\n",
              "  </thead>\n",
              "  <tbody>\n",
              "    <tr>\n",
              "      <th>0</th>\n",
              "      <td>1624687200</td>\n",
              "      <td>48437808290</td>\n",
              "      <td>2.634695e+07</td>\n",
              "      <td>163787.898732</td>\n",
              "      <td>8.760566e+06</td>\n",
              "      <td>2.699045e+09</td>\n",
              "    </tr>\n",
              "    <tr>\n",
              "      <th>1</th>\n",
              "      <td>1624665600</td>\n",
              "      <td>47965626508</td>\n",
              "      <td>2.641104e+07</td>\n",
              "      <td>163732.474282</td>\n",
              "      <td>8.746788e+06</td>\n",
              "      <td>2.701426e+09</td>\n",
              "    </tr>\n",
              "    <tr>\n",
              "      <th>2</th>\n",
              "      <td>1624579200</td>\n",
              "      <td>50994717087</td>\n",
              "      <td>2.560618e+07</td>\n",
              "      <td>164570.777150</td>\n",
              "      <td>8.682699e+06</td>\n",
              "      <td>2.692037e+09</td>\n",
              "    </tr>\n",
              "    <tr>\n",
              "      <th>3</th>\n",
              "      <td>1624492800</td>\n",
              "      <td>50101916045</td>\n",
              "      <td>2.539506e+07</td>\n",
              "      <td>162681.342310</td>\n",
              "      <td>8.509900e+06</td>\n",
              "      <td>2.663994e+09</td>\n",
              "    </tr>\n",
              "    <tr>\n",
              "      <th>4</th>\n",
              "      <td>1624406400</td>\n",
              "      <td>48438860331</td>\n",
              "      <td>2.578373e+07</td>\n",
              "      <td>150849.363021</td>\n",
              "      <td>8.494428e+06</td>\n",
              "      <td>2.510972e+09</td>\n",
              "    </tr>\n",
              "  </tbody>\n",
              "</table>\n",
              "</div>"
            ],
            "text/plain": [
              "    timestamp       tvlUSD  ...           ETH           DAI\n",
              "0  1624687200  48437808290  ...  8.760566e+06  2.699045e+09\n",
              "1  1624665600  47965626508  ...  8.746788e+06  2.701426e+09\n",
              "2  1624579200  50994717087  ...  8.682699e+06  2.692037e+09\n",
              "3  1624492800  50101916045  ...  8.509900e+06  2.663994e+09\n",
              "4  1624406400  48438860331  ...  8.494428e+06  2.510972e+09\n",
              "\n",
              "[5 rows x 6 columns]"
            ]
          },
          "metadata": {
            "tags": []
          },
          "execution_count": 1
        }
      ]
    },
    {
      "cell_type": "markdown",
      "metadata": {
        "id": "YSYc0dTwshDT"
      },
      "source": [
        "### Epoch & Unix Timestamp Conversion Tools: \n",
        "\n",
        "https://www.epochconverter.com/"
      ]
    },
    {
      "cell_type": "code",
      "metadata": {
        "colab": {
          "base_uri": "https://localhost:8080/"
        },
        "id": "mA0dLPWOsc__",
        "outputId": "2a8bd217-a793-4af7-c573-b351769e9f50"
      },
      "source": [
        "import datetime\n",
        "TVL['timestamp']=TVL['timestamp'].astype(int)\n",
        "TVL.dtypes"
      ],
      "execution_count": null,
      "outputs": [
        {
          "output_type": "execute_result",
          "data": {
            "text/plain": [
              "timestamp      int64\n",
              "tvlUSD         int64\n",
              "tvlETH       float64\n",
              "BTC          float64\n",
              "ETH          float64\n",
              "DAI          float64\n",
              "dtype: object"
            ]
          },
          "metadata": {
            "tags": []
          },
          "execution_count": 2
        }
      ]
    },
    {
      "cell_type": "code",
      "metadata": {
        "colab": {
          "base_uri": "https://localhost:8080/"
        },
        "id": "ejHxsc6vuTYk",
        "outputId": "cff65d46-5020-4566-9945-c5efc322c744"
      },
      "source": [
        "TVL['time']=TVL['timestamp'].apply(lambda x: datetime.datetime.utcfromtimestamp(x).replace(tzinfo=datetime.timezone.utc))\n",
        "TVL.head()"
      ],
      "execution_count": null,
      "outputs": [
        {
          "output_type": "execute_result",
          "data": {
            "text/html": [
              "<div>\n",
              "<style scoped>\n",
              "    .dataframe tbody tr th:only-of-type {\n",
              "        vertical-align: middle;\n",
              "    }\n",
              "\n",
              "    .dataframe tbody tr th {\n",
              "        vertical-align: top;\n",
              "    }\n",
              "\n",
              "    .dataframe thead th {\n",
              "        text-align: right;\n",
              "    }\n",
              "</style>\n",
              "<table border=\"1\" class=\"dataframe\">\n",
              "  <thead>\n",
              "    <tr style=\"text-align: right;\">\n",
              "      <th></th>\n",
              "      <th>timestamp</th>\n",
              "      <th>tvlUSD</th>\n",
              "      <th>tvlETH</th>\n",
              "      <th>BTC</th>\n",
              "      <th>ETH</th>\n",
              "      <th>DAI</th>\n",
              "      <th>time</th>\n",
              "    </tr>\n",
              "  </thead>\n",
              "  <tbody>\n",
              "    <tr>\n",
              "      <th>0</th>\n",
              "      <td>1624687200</td>\n",
              "      <td>48437808290</td>\n",
              "      <td>2.634695e+07</td>\n",
              "      <td>163787.898732</td>\n",
              "      <td>8.760566e+06</td>\n",
              "      <td>2.699045e+09</td>\n",
              "      <td>2021-06-26 06:00:00+00:00</td>\n",
              "    </tr>\n",
              "    <tr>\n",
              "      <th>1</th>\n",
              "      <td>1624665600</td>\n",
              "      <td>47965626508</td>\n",
              "      <td>2.641104e+07</td>\n",
              "      <td>163732.474282</td>\n",
              "      <td>8.746788e+06</td>\n",
              "      <td>2.701426e+09</td>\n",
              "      <td>2021-06-26 00:00:00+00:00</td>\n",
              "    </tr>\n",
              "    <tr>\n",
              "      <th>2</th>\n",
              "      <td>1624579200</td>\n",
              "      <td>50994717087</td>\n",
              "      <td>2.560618e+07</td>\n",
              "      <td>164570.777150</td>\n",
              "      <td>8.682699e+06</td>\n",
              "      <td>2.692037e+09</td>\n",
              "      <td>2021-06-25 00:00:00+00:00</td>\n",
              "    </tr>\n",
              "    <tr>\n",
              "      <th>3</th>\n",
              "      <td>1624492800</td>\n",
              "      <td>50101916045</td>\n",
              "      <td>2.539506e+07</td>\n",
              "      <td>162681.342310</td>\n",
              "      <td>8.509900e+06</td>\n",
              "      <td>2.663994e+09</td>\n",
              "      <td>2021-06-24 00:00:00+00:00</td>\n",
              "    </tr>\n",
              "    <tr>\n",
              "      <th>4</th>\n",
              "      <td>1624406400</td>\n",
              "      <td>48438860331</td>\n",
              "      <td>2.578373e+07</td>\n",
              "      <td>150849.363021</td>\n",
              "      <td>8.494428e+06</td>\n",
              "      <td>2.510972e+09</td>\n",
              "      <td>2021-06-23 00:00:00+00:00</td>\n",
              "    </tr>\n",
              "  </tbody>\n",
              "</table>\n",
              "</div>"
            ],
            "text/plain": [
              "    timestamp       tvlUSD  ...           DAI                      time\n",
              "0  1624687200  48437808290  ...  2.699045e+09 2021-06-26 06:00:00+00:00\n",
              "1  1624665600  47965626508  ...  2.701426e+09 2021-06-26 00:00:00+00:00\n",
              "2  1624579200  50994717087  ...  2.692037e+09 2021-06-25 00:00:00+00:00\n",
              "3  1624492800  50101916045  ...  2.663994e+09 2021-06-24 00:00:00+00:00\n",
              "4  1624406400  48438860331  ...  2.510972e+09 2021-06-23 00:00:00+00:00\n",
              "\n",
              "[5 rows x 7 columns]"
            ]
          },
          "metadata": {
            "tags": []
          },
          "execution_count": 3
        }
      ]
    },
    {
      "cell_type": "code",
      "metadata": {
        "colab": {
          "base_uri": "https://localhost:8080/"
        },
        "id": "Tbt5RqFyua50",
        "outputId": "34827ae6-4c31-43ec-b2c9-cd1ada5c9f0a"
      },
      "source": [
        "TVL['date'] = pd.to_datetime(TVL['time']).dt.date\n",
        "TVL.head()"
      ],
      "execution_count": null,
      "outputs": [
        {
          "output_type": "execute_result",
          "data": {
            "text/html": [
              "<div>\n",
              "<style scoped>\n",
              "    .dataframe tbody tr th:only-of-type {\n",
              "        vertical-align: middle;\n",
              "    }\n",
              "\n",
              "    .dataframe tbody tr th {\n",
              "        vertical-align: top;\n",
              "    }\n",
              "\n",
              "    .dataframe thead th {\n",
              "        text-align: right;\n",
              "    }\n",
              "</style>\n",
              "<table border=\"1\" class=\"dataframe\">\n",
              "  <thead>\n",
              "    <tr style=\"text-align: right;\">\n",
              "      <th></th>\n",
              "      <th>timestamp</th>\n",
              "      <th>tvlUSD</th>\n",
              "      <th>tvlETH</th>\n",
              "      <th>BTC</th>\n",
              "      <th>ETH</th>\n",
              "      <th>DAI</th>\n",
              "      <th>time</th>\n",
              "      <th>date</th>\n",
              "    </tr>\n",
              "  </thead>\n",
              "  <tbody>\n",
              "    <tr>\n",
              "      <th>0</th>\n",
              "      <td>1624687200</td>\n",
              "      <td>48437808290</td>\n",
              "      <td>2.634695e+07</td>\n",
              "      <td>163787.898732</td>\n",
              "      <td>8.760566e+06</td>\n",
              "      <td>2.699045e+09</td>\n",
              "      <td>2021-06-26 06:00:00+00:00</td>\n",
              "      <td>2021-06-26</td>\n",
              "    </tr>\n",
              "    <tr>\n",
              "      <th>1</th>\n",
              "      <td>1624665600</td>\n",
              "      <td>47965626508</td>\n",
              "      <td>2.641104e+07</td>\n",
              "      <td>163732.474282</td>\n",
              "      <td>8.746788e+06</td>\n",
              "      <td>2.701426e+09</td>\n",
              "      <td>2021-06-26 00:00:00+00:00</td>\n",
              "      <td>2021-06-26</td>\n",
              "    </tr>\n",
              "    <tr>\n",
              "      <th>2</th>\n",
              "      <td>1624579200</td>\n",
              "      <td>50994717087</td>\n",
              "      <td>2.560618e+07</td>\n",
              "      <td>164570.777150</td>\n",
              "      <td>8.682699e+06</td>\n",
              "      <td>2.692037e+09</td>\n",
              "      <td>2021-06-25 00:00:00+00:00</td>\n",
              "      <td>2021-06-25</td>\n",
              "    </tr>\n",
              "    <tr>\n",
              "      <th>3</th>\n",
              "      <td>1624492800</td>\n",
              "      <td>50101916045</td>\n",
              "      <td>2.539506e+07</td>\n",
              "      <td>162681.342310</td>\n",
              "      <td>8.509900e+06</td>\n",
              "      <td>2.663994e+09</td>\n",
              "      <td>2021-06-24 00:00:00+00:00</td>\n",
              "      <td>2021-06-24</td>\n",
              "    </tr>\n",
              "    <tr>\n",
              "      <th>4</th>\n",
              "      <td>1624406400</td>\n",
              "      <td>48438860331</td>\n",
              "      <td>2.578373e+07</td>\n",
              "      <td>150849.363021</td>\n",
              "      <td>8.494428e+06</td>\n",
              "      <td>2.510972e+09</td>\n",
              "      <td>2021-06-23 00:00:00+00:00</td>\n",
              "      <td>2021-06-23</td>\n",
              "    </tr>\n",
              "  </tbody>\n",
              "</table>\n",
              "</div>"
            ],
            "text/plain": [
              "    timestamp       tvlUSD  ...                      time        date\n",
              "0  1624687200  48437808290  ... 2021-06-26 06:00:00+00:00  2021-06-26\n",
              "1  1624665600  47965626508  ... 2021-06-26 00:00:00+00:00  2021-06-26\n",
              "2  1624579200  50994717087  ... 2021-06-25 00:00:00+00:00  2021-06-25\n",
              "3  1624492800  50101916045  ... 2021-06-24 00:00:00+00:00  2021-06-24\n",
              "4  1624406400  48438860331  ... 2021-06-23 00:00:00+00:00  2021-06-23\n",
              "\n",
              "[5 rows x 8 columns]"
            ]
          },
          "metadata": {
            "tags": []
          },
          "execution_count": 4
        }
      ]
    },
    {
      "cell_type": "code",
      "metadata": {
        "colab": {
          "base_uri": "https://localhost:8080/"
        },
        "id": "-cMJinDc1D5z",
        "outputId": "d6b2f46c-946a-4810-f99f-ae5f366f9ca3"
      },
      "source": [
        "TVL=TVL.drop(columns='time')\n",
        "TVL['date']=pd.to_datetime(TVL['date'])\n",
        "TVL.dtypes"
      ],
      "execution_count": null,
      "outputs": [
        {
          "output_type": "execute_result",
          "data": {
            "text/plain": [
              "timestamp             int64\n",
              "tvlUSD                int64\n",
              "tvlETH              float64\n",
              "BTC                 float64\n",
              "ETH                 float64\n",
              "DAI                 float64\n",
              "date         datetime64[ns]\n",
              "dtype: object"
            ]
          },
          "metadata": {
            "tags": []
          },
          "execution_count": 5
        }
      ]
    },
    {
      "cell_type": "markdown",
      "metadata": {
        "id": "zqQ0daK2wMQN"
      },
      "source": [
        "### Import the data for Ethereum Prices"
      ]
    },
    {
      "cell_type": "markdown",
      "metadata": {
        "id": "mYlmGrgczaPF"
      },
      "source": [
        "[Data Metrics](https://github.com/coinmetrics-io/data/blob/master/csv/metrics.csv)"
      ]
    },
    {
      "cell_type": "code",
      "metadata": {
        "colab": {
          "base_uri": "https://localhost:8080/"
        },
        "id": "QwyZPFlJzT6-",
        "outputId": "2b404262-0091-4a8a-c1cc-7129141de3ff"
      },
      "source": [
        "df_eth=pd.read_csv(\"https://raw.githubusercontent.com/coinmetrics-io/data/master/csv/eth.csv\",usecols=([\"time\",\"PriceUSD\",\"VtyDayRet30d\",\"TxTfrValAdjUSD\",\"AdrBalCnt\",\"NVTAdj90\",\"SplyCur\"]))\n",
        "df_eth['time']=pd.to_datetime(df_eth['time'])\n",
        "df_eth.dtypes"
      ],
      "execution_count": null,
      "outputs": [
        {
          "output_type": "execute_result",
          "data": {
            "text/plain": [
              "time              datetime64[ns]\n",
              "AdrBalCnt                float64\n",
              "NVTAdj90                 float64\n",
              "PriceUSD                 float64\n",
              "SplyCur                  float64\n",
              "TxTfrValAdjUSD           float64\n",
              "VtyDayRet30d             float64\n",
              "dtype: object"
            ]
          },
          "metadata": {
            "tags": []
          },
          "execution_count": 6
        }
      ]
    },
    {
      "cell_type": "markdown",
      "metadata": {
        "id": "2pgSXDO11eZ-"
      },
      "source": [
        "### Merge the two Data Frame"
      ]
    },
    {
      "cell_type": "code",
      "metadata": {
        "colab": {
          "base_uri": "https://localhost:8080/"
        },
        "id": "wuPJKRK4zxS6",
        "outputId": "64f7d942-b95f-4639-c920-445f0cf0e110"
      },
      "source": [
        "df =df_eth.merge(TVL, left_on='time', right_on='date')\n",
        "df.head()"
      ],
      "execution_count": null,
      "outputs": [
        {
          "output_type": "execute_result",
          "data": {
            "text/html": [
              "<div>\n",
              "<style scoped>\n",
              "    .dataframe tbody tr th:only-of-type {\n",
              "        vertical-align: middle;\n",
              "    }\n",
              "\n",
              "    .dataframe tbody tr th {\n",
              "        vertical-align: top;\n",
              "    }\n",
              "\n",
              "    .dataframe thead th {\n",
              "        text-align: right;\n",
              "    }\n",
              "</style>\n",
              "<table border=\"1\" class=\"dataframe\">\n",
              "  <thead>\n",
              "    <tr style=\"text-align: right;\">\n",
              "      <th></th>\n",
              "      <th>time</th>\n",
              "      <th>AdrBalCnt</th>\n",
              "      <th>NVTAdj90</th>\n",
              "      <th>PriceUSD</th>\n",
              "      <th>SplyCur</th>\n",
              "      <th>TxTfrValAdjUSD</th>\n",
              "      <th>VtyDayRet30d</th>\n",
              "      <th>timestamp</th>\n",
              "      <th>tvlUSD</th>\n",
              "      <th>tvlETH</th>\n",
              "      <th>BTC</th>\n",
              "      <th>ETH</th>\n",
              "      <th>DAI</th>\n",
              "      <th>date</th>\n",
              "    </tr>\n",
              "  </thead>\n",
              "  <tbody>\n",
              "    <tr>\n",
              "      <th>0</th>\n",
              "      <td>2017-08-02</td>\n",
              "      <td>2563959.0</td>\n",
              "      <td>20.362229</td>\n",
              "      <td>217.584664</td>\n",
              "      <td>9.374206e+07</td>\n",
              "      <td>6.780871e+08</td>\n",
              "      <td>0.095886</td>\n",
              "      <td>1501632000</td>\n",
              "      <td>0</td>\n",
              "      <td>0.000000</td>\n",
              "      <td>0.0</td>\n",
              "      <td>0.0</td>\n",
              "      <td>0.0</td>\n",
              "      <td>2017-08-02</td>\n",
              "    </tr>\n",
              "    <tr>\n",
              "      <th>1</th>\n",
              "      <td>2017-08-03</td>\n",
              "      <td>2583277.0</td>\n",
              "      <td>20.979627</td>\n",
              "      <td>224.028898</td>\n",
              "      <td>9.376303e+07</td>\n",
              "      <td>6.062566e+08</td>\n",
              "      <td>0.096060</td>\n",
              "      <td>1501718400</td>\n",
              "      <td>4</td>\n",
              "      <td>0.018339</td>\n",
              "      <td>0.0</td>\n",
              "      <td>0.0</td>\n",
              "      <td>0.0</td>\n",
              "      <td>2017-08-03</td>\n",
              "    </tr>\n",
              "    <tr>\n",
              "      <th>2</th>\n",
              "      <td>2017-08-04</td>\n",
              "      <td>2605667.0</td>\n",
              "      <td>20.714810</td>\n",
              "      <td>221.471094</td>\n",
              "      <td>9.378433e+07</td>\n",
              "      <td>5.206240e+08</td>\n",
              "      <td>0.096060</td>\n",
              "      <td>1501804800</td>\n",
              "      <td>4</td>\n",
              "      <td>0.017826</td>\n",
              "      <td>0.0</td>\n",
              "      <td>0.0</td>\n",
              "      <td>0.0</td>\n",
              "      <td>2017-08-04</td>\n",
              "    </tr>\n",
              "    <tr>\n",
              "      <th>3</th>\n",
              "      <td>2017-08-05</td>\n",
              "      <td>2624386.0</td>\n",
              "      <td>23.205816</td>\n",
              "      <td>248.939666</td>\n",
              "      <td>9.380552e+07</td>\n",
              "      <td>6.665590e+08</td>\n",
              "      <td>0.098653</td>\n",
              "      <td>1501891200</td>\n",
              "      <td>5</td>\n",
              "      <td>0.022665</td>\n",
              "      <td>0.0</td>\n",
              "      <td>0.0</td>\n",
              "      <td>0.0</td>\n",
              "      <td>2017-08-05</td>\n",
              "    </tr>\n",
              "    <tr>\n",
              "      <th>4</th>\n",
              "      <td>2017-08-06</td>\n",
              "      <td>2640032.0</td>\n",
              "      <td>24.667311</td>\n",
              "      <td>266.031146</td>\n",
              "      <td>9.382679e+07</td>\n",
              "      <td>9.229966e+08</td>\n",
              "      <td>0.097469</td>\n",
              "      <td>1501977600</td>\n",
              "      <td>5</td>\n",
              "      <td>0.019756</td>\n",
              "      <td>0.0</td>\n",
              "      <td>0.0</td>\n",
              "      <td>0.0</td>\n",
              "      <td>2017-08-06</td>\n",
              "    </tr>\n",
              "  </tbody>\n",
              "</table>\n",
              "</div>"
            ],
            "text/plain": [
              "        time  AdrBalCnt   NVTAdj90    PriceUSD  ...  BTC  ETH  DAI       date\n",
              "0 2017-08-02  2563959.0  20.362229  217.584664  ...  0.0  0.0  0.0 2017-08-02\n",
              "1 2017-08-03  2583277.0  20.979627  224.028898  ...  0.0  0.0  0.0 2017-08-03\n",
              "2 2017-08-04  2605667.0  20.714810  221.471094  ...  0.0  0.0  0.0 2017-08-04\n",
              "3 2017-08-05  2624386.0  23.205816  248.939666  ...  0.0  0.0  0.0 2017-08-05\n",
              "4 2017-08-06  2640032.0  24.667311  266.031146  ...  0.0  0.0  0.0 2017-08-06\n",
              "\n",
              "[5 rows x 14 columns]"
            ]
          },
          "metadata": {
            "tags": []
          },
          "execution_count": 7
        }
      ]
    },
    {
      "cell_type": "code",
      "metadata": {
        "id": "HHJX4hy609CY"
      },
      "source": [
        "df=df[[\"date\",\"tvlUSD\",\"VtyDayRet30d\",\"SplyCur\",\"AdrBalCnt\"]]"
      ],
      "execution_count": null,
      "outputs": []
    },
    {
      "cell_type": "markdown",
      "metadata": {
        "id": "TYUpm17R1-dp"
      },
      "source": [
        "# Test Instrument Validities\n",
        "\n",
        "Y: \"SplyCur\"\n",
        "\n",
        "X: \"VtyDayRet30d\"\n",
        "\n",
        "Z: \"SplyCur\"\n",
        "\n",
        "W: \"AdrBalCnt\""
      ]
    },
    {
      "cell_type": "code",
      "metadata": {
        "colab": {
          "base_uri": "https://localhost:8080/",
          "height": 111
        },
        "id": "LAM6AcsE2y0Q",
        "outputId": "70034384-bd39-42ce-f63f-ee35fd928698"
      },
      "source": [
        "df[[\"VtyDayRet30d\",\"SplyCur\"]].corr()"
      ],
      "execution_count": null,
      "outputs": [
        {
          "output_type": "execute_result",
          "data": {
            "text/html": [
              "<div>\n",
              "<style scoped>\n",
              "    .dataframe tbody tr th:only-of-type {\n",
              "        vertical-align: middle;\n",
              "    }\n",
              "\n",
              "    .dataframe tbody tr th {\n",
              "        vertical-align: top;\n",
              "    }\n",
              "\n",
              "    .dataframe thead th {\n",
              "        text-align: right;\n",
              "    }\n",
              "</style>\n",
              "<table border=\"1\" class=\"dataframe\">\n",
              "  <thead>\n",
              "    <tr style=\"text-align: right;\">\n",
              "      <th></th>\n",
              "      <th>VtyDayRet30d</th>\n",
              "      <th>SplyCur</th>\n",
              "    </tr>\n",
              "  </thead>\n",
              "  <tbody>\n",
              "    <tr>\n",
              "      <th>VtyDayRet30d</th>\n",
              "      <td>1.000000</td>\n",
              "      <td>-0.101702</td>\n",
              "    </tr>\n",
              "    <tr>\n",
              "      <th>SplyCur</th>\n",
              "      <td>-0.101702</td>\n",
              "      <td>1.000000</td>\n",
              "    </tr>\n",
              "  </tbody>\n",
              "</table>\n",
              "</div>"
            ],
            "text/plain": [
              "              VtyDayRet30d   SplyCur\n",
              "VtyDayRet30d      1.000000 -0.101702\n",
              "SplyCur          -0.101702  1.000000"
            ]
          },
          "metadata": {
            "tags": []
          },
          "execution_count": 9
        }
      ]
    },
    {
      "cell_type": "markdown",
      "metadata": {
        "id": "6366aGHi3kt7"
      },
      "source": [
        "# Using the Linear Model Package\n",
        "\n",
        "https://bashtage.github.io/linearmodels/doc/iv/index.html"
      ]
    },
    {
      "cell_type": "code",
      "metadata": {
        "colab": {
          "base_uri": "https://localhost:8080/"
        },
        "id": "I6XzAwjZ3tmx",
        "outputId": "59495f26-76f4-401e-e17e-1a3a09cfcfe2"
      },
      "source": [
        "pip install linearmodels"
      ],
      "execution_count": null,
      "outputs": [
        {
          "output_type": "stream",
          "text": [
            "Collecting linearmodels\n",
            "\u001b[?25l  Downloading https://files.pythonhosted.org/packages/b2/d6/75c6c953a98edaa85647c8b40a335e541c76a9095767382dee009c01e445/linearmodels-4.24-cp37-cp37m-manylinux1_x86_64.whl (1.5MB)\n",
            "\u001b[K     |████████████████████████████████| 1.5MB 3.1MB/s \n",
            "\u001b[?25hCollecting property-cached>=1.6.3\n",
            "  Downloading https://files.pythonhosted.org/packages/5c/6c/94d8e520b20a2502e508e1c558f338061cf409cbee78fd6a3a5c6ae812bd/property_cached-1.6.4-py2.py3-none-any.whl\n",
            "Collecting statsmodels>=0.11\n",
            "\u001b[?25l  Downloading https://files.pythonhosted.org/packages/da/69/8eef30a6237c54f3c0b524140e2975f4b1eea3489b45eb3339574fc8acee/statsmodels-0.12.2-cp37-cp37m-manylinux1_x86_64.whl (9.5MB)\n",
            "\u001b[K     |████████████████████████████████| 9.5MB 21.6MB/s \n",
            "\u001b[?25hCollecting pyhdfe>=0.1\n",
            "  Downloading https://files.pythonhosted.org/packages/81/38/a53257196401029dd34c83c0528de22032d7b602e8bbcaa6d560040d42c2/pyhdfe-0.1.0-py3-none-any.whl\n",
            "Requirement already satisfied: numpy>=1.16 in /usr/local/lib/python3.7/dist-packages (from linearmodels) (1.19.5)\n",
            "Collecting mypy-extensions>=0.4\n",
            "  Downloading https://files.pythonhosted.org/packages/5c/eb/975c7c080f3223a5cdaff09612f3a5221e4ba534f7039db34c35d95fa6a5/mypy_extensions-0.4.3-py2.py3-none-any.whl\n",
            "Requirement already satisfied: scipy>=1.2 in /usr/local/lib/python3.7/dist-packages (from linearmodels) (1.4.1)\n",
            "Requirement already satisfied: Cython>=0.29.21 in /usr/local/lib/python3.7/dist-packages (from linearmodels) (0.29.23)\n",
            "Requirement already satisfied: pandas>=0.24 in /usr/local/lib/python3.7/dist-packages (from linearmodels) (1.1.5)\n",
            "Requirement already satisfied: patsy in /usr/local/lib/python3.7/dist-packages (from linearmodels) (0.5.1)\n",
            "Requirement already satisfied: python-dateutil>=2.7.3 in /usr/local/lib/python3.7/dist-packages (from pandas>=0.24->linearmodels) (2.8.1)\n",
            "Requirement already satisfied: pytz>=2017.2 in /usr/local/lib/python3.7/dist-packages (from pandas>=0.24->linearmodels) (2018.9)\n",
            "Requirement already satisfied: six in /usr/local/lib/python3.7/dist-packages (from patsy->linearmodels) (1.15.0)\n",
            "Installing collected packages: property-cached, statsmodels, pyhdfe, mypy-extensions, linearmodels\n",
            "  Found existing installation: statsmodels 0.10.2\n",
            "    Uninstalling statsmodels-0.10.2:\n",
            "      Successfully uninstalled statsmodels-0.10.2\n",
            "Successfully installed linearmodels-4.24 mypy-extensions-0.4.3 property-cached-1.6.4 pyhdfe-0.1.0 statsmodels-0.12.2\n"
          ],
          "name": "stdout"
        }
      ]
    },
    {
      "cell_type": "code",
      "metadata": {
        "id": "zPkiZ_PG29pY"
      },
      "source": [
        "from linearmodels import IV2SLS"
      ],
      "execution_count": null,
      "outputs": []
    },
    {
      "cell_type": "markdown",
      "metadata": {
        "id": "XxYAEg6k5Z4t"
      },
      "source": [
        "### run an OLS"
      ]
    },
    {
      "cell_type": "code",
      "metadata": {
        "id": "VpWEbEA56Lqu"
      },
      "source": [
        "df['const'] = 1"
      ],
      "execution_count": null,
      "outputs": []
    },
    {
      "cell_type": "code",
      "metadata": {
        "colab": {
          "base_uri": "https://localhost:8080/"
        },
        "id": "bwWWAz_v3pxe",
        "outputId": "cffee11b-f2e8-419b-a581-cfebdb7e697d"
      },
      "source": [
        "ivolsmod = IV2SLS(df.tvlUSD, df[[\"const\",\"VtyDayRet30d\",\"SplyCur\",\"AdrBalCnt\"]], None, None)\n",
        "res_ols = ivolsmod.fit()\n",
        "print(res_ols)"
      ],
      "execution_count": null,
      "outputs": [
        {
          "output_type": "stream",
          "text": [
            "                            OLS Estimation Summary                            \n",
            "==============================================================================\n",
            "Dep. Variable:                 tvlUSD   R-squared:                      0.7385\n",
            "Estimator:                        OLS   Adj. R-squared:                 0.7380\n",
            "No. Observations:                1423   F-statistic:                    1460.9\n",
            "Date:                Sat, Jun 26 2021   P-value (F-stat)                0.0000\n",
            "Time:                        07:25:18   Distribution:                  chi2(3)\n",
            "Cov. Estimator:                robust                                         \n",
            "                                                                              \n",
            "                              Parameter Estimates                               \n",
            "================================================================================\n",
            "              Parameter  Std. Err.     T-stat    P-value    Lower CI    Upper CI\n",
            "--------------------------------------------------------------------------------\n",
            "const         7.003e+11  2.508e+10     27.919     0.0000   6.511e+11   7.495e+11\n",
            "VtyDayRet30d  7.566e+10  1.317e+10     5.7469     0.0000   4.986e+10   1.015e+11\n",
            "SplyCur         -7595.4     266.65    -28.485     0.0000     -8118.0     -7072.8\n",
            "AdrBalCnt        3672.8     119.19     30.814     0.0000      3439.2      3906.4\n",
            "================================================================================\n"
          ],
          "name": "stdout"
        }
      ]
    },
    {
      "cell_type": "markdown",
      "metadata": {
        "id": "rgrpPK_w5fmx"
      },
      "source": [
        "### run an IV2SLS"
      ]
    },
    {
      "cell_type": "code",
      "metadata": {
        "colab": {
          "base_uri": "https://localhost:8080/"
        },
        "id": "AlJWi-_y5RUB",
        "outputId": "1770ccb9-1284-4bb5-b2c7-c799f2f441c6"
      },
      "source": [
        "ivmod = IV2SLS(df.tvlUSD, df[[\"const\",\"AdrBalCnt\"]], df[\"VtyDayRet30d\"], df[\"SplyCur\"])\n",
        "res_2sls = ivmod.fit()\n",
        "print(res_2sls.summary)"
      ],
      "execution_count": null,
      "outputs": [
        {
          "output_type": "stream",
          "text": [
            "                          IV-2SLS Estimation Summary                          \n",
            "==============================================================================\n",
            "Dep. Variable:                 tvlUSD   R-squared:                     -3.3208\n",
            "Estimator:                    IV-2SLS   Adj. R-squared:                -3.3269\n",
            "No. Observations:                1423   F-statistic:                    238.39\n",
            "Date:                Sat, Jun 26 2021   P-value (F-stat)                0.0000\n",
            "Time:                        07:25:18   Distribution:                  chi2(2)\n",
            "Cov. Estimator:                robust                                         \n",
            "                                                                              \n",
            "                              Parameter Estimates                               \n",
            "================================================================================\n",
            "              Parameter  Std. Err.     T-stat    P-value    Lower CI    Upper CI\n",
            "--------------------------------------------------------------------------------\n",
            "const        -1.154e+11  1.229e+10    -9.3888     0.0000  -1.395e+11  -9.132e+10\n",
            "AdrBalCnt        856.60     59.331     14.438     0.0000      740.31      972.89\n",
            "VtyDayRet30d  1.911e+12   2.29e+11     8.3447     0.0000   1.462e+12    2.36e+12\n",
            "================================================================================\n",
            "\n",
            "Endogenous: VtyDayRet30d\n",
            "Instruments: SplyCur\n",
            "Robust Covariance (Heteroskedastic)\n",
            "Debiased: False\n"
          ],
          "name": "stdout"
        }
      ]
    },
    {
      "cell_type": "markdown",
      "metadata": {
        "id": "6FXJ7F2L6hjU"
      },
      "source": [
        "### comparison of the results"
      ]
    },
    {
      "cell_type": "code",
      "metadata": {
        "id": "ko-JHZ9T52eI"
      },
      "source": [
        "from collections import OrderedDict\n",
        "from linearmodels.iv.results import compare"
      ],
      "execution_count": null,
      "outputs": []
    },
    {
      "cell_type": "code",
      "metadata": {
        "colab": {
          "base_uri": "https://localhost:8080/"
        },
        "id": "2uCswn3g6rt5",
        "outputId": "4127e361-d64b-4368-bef7-5b7504933da7"
      },
      "source": [
        "res = OrderedDict()\n",
        "res['OLS'] = res_ols\n",
        "res['2SLS'] = res_2sls\n",
        "print(compare(res))"
      ],
      "execution_count": null,
      "outputs": [
        {
          "output_type": "stream",
          "text": [
            "                 Model Comparison                \n",
            "=================================================\n",
            "                               OLS           2SLS\n",
            "-------------------------------------------------\n",
            "Dep. Variable               tvlUSD         tvlUSD\n",
            "Estimator                      OLS        IV-2SLS\n",
            "No. Observations              1423           1423\n",
            "Cov. Est.                   robust         robust\n",
            "R-squared                   0.7385        -3.3208\n",
            "Adj. R-squared              0.7380        -3.3269\n",
            "F-statistic                 1460.9         238.39\n",
            "P-value (F-stat)            0.0000         0.0000\n",
            "==================     ===========   ============\n",
            "const                    7.003e+11     -1.154e+11\n",
            "                          (27.919)      (-9.3888)\n",
            "VtyDayRet30d             7.566e+10      1.911e+12\n",
            "                          (5.7469)       (8.3447)\n",
            "SplyCur                    -7595.4               \n",
            "                         (-28.485)               \n",
            "AdrBalCnt                   3672.8         856.60\n",
            "                          (30.814)       (14.438)\n",
            "==================== ============= ==============\n",
            "Instruments                               SplyCur\n",
            "-------------------------------------------------\n",
            "\n",
            "T-stats reported in parentheses\n"
          ],
          "name": "stdout"
        }
      ]
    },
    {
      "cell_type": "markdown",
      "metadata": {
        "id": "ucuxJA-e62Eo"
      },
      "source": [
        "### Testing endogeneity"
      ]
    },
    {
      "cell_type": "markdown",
      "metadata": {
        "id": "hOrvX00o6-sI"
      },
      "source": [
        "The Durbin test is a classic of endogeneity which compares OLS estimates with 2SLS and exploits the fact that OLS estimates will be relatively efficient. Durbin’s test is not robust to heteroskedasticity."
      ]
    },
    {
      "cell_type": "code",
      "metadata": {
        "colab": {
          "base_uri": "https://localhost:8080/"
        },
        "id": "ET-0LIWQ6vuR",
        "outputId": "827f3967-11fd-45d2-c5d7-799b5a2e03aa"
      },
      "source": [
        "res_2sls.durbin()"
      ],
      "execution_count": null,
      "outputs": [
        {
          "output_type": "execute_result",
          "data": {
            "text/plain": [
              "Durbin test of exogeneity\n",
              "H0: All endogenous variables are exogenous\n",
              "Statistic: 656.5428\n",
              "P-value: 0.0000\n",
              "Distributed: chi2(1)\n",
              "WaldTestStatistic, id: 0x7f1496c7b910"
            ]
          },
          "metadata": {
            "tags": []
          },
          "execution_count": 17
        }
      ]
    },
    {
      "cell_type": "markdown",
      "metadata": {
        "id": "oOc2ojRD7R7p"
      },
      "source": [
        "Wooldridge’s regression-based test of exogeneity is robust to heteroskedasticity since it inherits the covariance estimator from the model. Here there is little difference."
      ]
    },
    {
      "cell_type": "code",
      "metadata": {
        "colab": {
          "base_uri": "https://localhost:8080/"
        },
        "id": "xpOJjC6a7Bk7",
        "outputId": "c667210f-9084-43b4-cec3-e10549fa9e10"
      },
      "source": [
        "res_2sls.wooldridge_regression"
      ],
      "execution_count": null,
      "outputs": [
        {
          "output_type": "execute_result",
          "data": {
            "text/plain": [
              "Wooldridge's regression test of exogeneity\n",
              "H0: Endogenous variables are exogenous\n",
              "Statistic: 811.3742\n",
              "P-value: 0.0000\n",
              "Distributed: chi2(1)\n",
              "WaldTestStatistic, id: 0x7f1495bf84d0"
            ]
          },
          "metadata": {
            "tags": []
          },
          "execution_count": 18
        }
      ]
    },
    {
      "cell_type": "markdown",
      "metadata": {
        "id": "51xkG50O7p5M"
      },
      "source": [
        "### print first stage regression"
      ]
    },
    {
      "cell_type": "code",
      "metadata": {
        "colab": {
          "base_uri": "https://localhost:8080/"
        },
        "id": "bn7PCPjl7Nwd",
        "outputId": "284d9a48-3f52-41ea-e1e2-34aae755eab5"
      },
      "source": [
        "print(res_2sls.first_stage)"
      ],
      "execution_count": null,
      "outputs": [
        {
          "output_type": "stream",
          "text": [
            "     First Stage Estimation Results    \n",
            "=======================================\n",
            "                           VtyDayRet30d\n",
            "---------------------------------------\n",
            "R-squared                        0.0589\n",
            "Partial R-squared                0.0552\n",
            "Shea's R-squared                 0.0552\n",
            "Partial F-statistic              72.210\n",
            "P-value (Partial F-stat)         0.0000\n",
            "Partial F-stat Distn            chi2(1)\n",
            "========================== ============\n",
            "const                            0.4444\n",
            "                               (9.6514)\n",
            "AdrBalCnt                     1.534e-09\n",
            "                               (8.0798)\n",
            "SplyCur                      -4.138e-09\n",
            "                              (-8.4976)\n",
            "---------------------------------------\n",
            "\n",
            "T-stats reported in parentheses\n",
            "T-stats use same covariance type as original model\n"
          ],
          "name": "stdout"
        }
      ]
    },
    {
      "cell_type": "markdown",
      "metadata": {
        "id": "-vP6TFhE7zVS"
      },
      "source": [
        "# Using the Statsmodel Package\n",
        "\n",
        "Not recommended"
      ]
    },
    {
      "cell_type": "markdown",
      "metadata": {
        "id": "RJzb5lIN74LQ"
      },
      "source": [
        "https://www.statsmodels.org/dev/generated/statsmodels.sandbox.regression.gmm.IV2SLS.html"
      ]
    }
  ]
}